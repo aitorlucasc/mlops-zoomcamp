{
 "cells": [
  {
   "cell_type": "code",
   "execution_count": 1,
   "id": "2c4197e1-6cee-4e97-959c-2214450023d6",
   "metadata": {},
   "outputs": [],
   "source": [
    "import mlflow"
   ]
  },
  {
   "cell_type": "markdown",
   "id": "3317accb-0a3c-44c7-9075-f07adfbb57a8",
   "metadata": {},
   "source": [
    "# Question 1"
   ]
  },
  {
   "cell_type": "code",
   "execution_count": 2,
   "id": "f0e090ea-c7e2-4b94-ac0b-574dd3317a63",
   "metadata": {},
   "outputs": [
    {
     "name": "stdout",
     "output_type": "stream",
     "text": [
      "mlflow, version 1.26.1\n"
     ]
    }
   ],
   "source": [
    "! mlflow --version"
   ]
  },
  {
   "cell_type": "markdown",
   "id": "3458a51f-7ae4-4eb0-b13b-0f3ef6b28c11",
   "metadata": {},
   "source": [
    "# Question 2"
   ]
  },
  {
   "cell_type": "code",
   "execution_count": 6,
   "id": "9b8a482e-e328-4d8c-898c-882b8e8fe69c",
   "metadata": {},
   "outputs": [],
   "source": [
    "!python3 preprocess_data.py --raw_data_path . --dest_path output"
   ]
  },
  {
   "cell_type": "code",
   "execution_count": 8,
   "id": "92f4825d-7824-4885-9404-94d8525c4dc3",
   "metadata": {},
   "outputs": [
    {
     "name": "stdout",
     "output_type": "stream",
     "text": [
      "dv.pkl\ttest.pkl  train.pkl  valid.pkl\n"
     ]
    }
   ],
   "source": [
    "!dir \"output\""
   ]
  },
  {
   "cell_type": "markdown",
   "id": "f6928ab7-c5b3-4a55-83cf-ec758bf4d244",
   "metadata": {},
   "source": [
    "ANSWER: 4"
   ]
  },
  {
   "cell_type": "markdown",
   "id": "3f636436-ff73-456b-9715-e88ddcb31593",
   "metadata": {},
   "source": [
    "# Question 3"
   ]
  },
  {
   "cell_type": "code",
   "execution_count": 9,
   "id": "d30cd0a8-207a-45ef-ae87-e4310ef4c97c",
   "metadata": {},
   "outputs": [],
   "source": [
    "!python3 train.py"
   ]
  },
  {
   "cell_type": "code",
   "execution_count": 10,
   "id": "6cc3c267-f68a-4fce-b423-dee19c3f48f4",
   "metadata": {},
   "outputs": [
    {
     "name": "stdout",
     "output_type": "stream",
     "text": [
      "Number of parameters: 17\n"
     ]
    }
   ],
   "source": [
    "client = mlflow.tracking.MlflowClient(tracking_uri = 'sqlite:///mlflow.db')\n",
    "experiment = client.get_experiment_by_name('green-trip')\n",
    "runs = client.search_runs(1)\n",
    "print(f\"Number of parameters: {len(runs[0].data.params)}\")"
   ]
  },
  {
   "cell_type": "markdown",
   "id": "14d635be-be04-4ba6-b4f0-e073939f31b1",
   "metadata": {},
   "source": [
    "# Question 4"
   ]
  },
  {
   "cell_type": "markdown",
   "id": "7afc8207-f7a8-4eda-b12b-cd0ecfb481e3",
   "metadata": {},
   "source": [
    "Answer: --default-artifact-root\n",
    "\n",
    "\n",
    "mlflow server --backend-store-uri \"sqlite:///mlflow.db\" --default-artifact-root \"./artifacts\""
   ]
  },
  {
   "cell_type": "markdown",
   "id": "2bc5fd24-2b77-4c83-b633-8f4d972a996d",
   "metadata": {},
   "source": [
    "# Question 5"
   ]
  },
  {
   "cell_type": "code",
   "execution_count": 11,
   "id": "bc6a0a93-8053-4bb7-9743-cafac239b692",
   "metadata": {},
   "outputs": [
    {
     "name": "stdout",
     "output_type": "stream",
     "text": [
      "2022/06/02 22:16:26 INFO mlflow.tracking.fluent: Experiment with name 'random-forest-hyperopt' does not exist. Creating a new experiment.\n",
      "100%|█████████| 50/50 [06:54<00:00,  8.29s/trial, best loss: 6.6284257482044735]\n"
     ]
    }
   ],
   "source": [
    "!python3 hpo.py"
   ]
  },
  {
   "cell_type": "markdown",
   "id": "e926b0ea-569e-41ae-b84b-d76d9b973dea",
   "metadata": {},
   "source": [
    "# Question 6"
   ]
  },
  {
   "cell_type": "code",
   "execution_count": 12,
   "id": "81c327a2-3fd4-4998-997e-fb33ca6e539d",
   "metadata": {},
   "outputs": [
    {
     "name": "stdout",
     "output_type": "stream",
     "text": [
      "2022/06/02 22:29:51 INFO mlflow.tracking.fluent: Experiment with name 'random-forest-best-models' does not exist. Creating a new experiment.\n",
      "Successfully registered model 'Best_RandomForestRegressor_BasedOn_202103_testdata'.\n",
      "2022/06/02 22:31:21 INFO mlflow.tracking._model_registry.client: Waiting up to 300 seconds for model version to finish creation.                     Model name: Best_RandomForestRegressor_BasedOn_202103_testdata, version 1\n",
      "Created version '1' of model 'Best_RandomForestRegressor_BasedOn_202103_testdata'.\n"
     ]
    }
   ],
   "source": [
    "!python3 register_model.py"
   ]
  },
  {
   "cell_type": "code",
   "execution_count": 13,
   "id": "1a2c22a4-9d73-4a88-b65e-8afd988ba787",
   "metadata": {},
   "outputs": [
    {
     "data": {
      "text/plain": [
       "6.547886185595423"
      ]
     },
     "execution_count": 13,
     "metadata": {},
     "output_type": "execute_result"
    }
   ],
   "source": [
    "best_run_test = client.search_runs(\n",
    "  experiment_ids = 3, \n",
    "  run_view_type= mlflow.entities.ViewType.ACTIVE_ONLY,\n",
    "  max_results=1,\n",
    "  order_by=[\"metrics.test_rmse ASC\"]\n",
    ")[0]\n",
    "\n",
    "best_run_test.data.metrics['test_rmse']"
   ]
  }
 ],
 "metadata": {
  "kernelspec": {
   "display_name": "Python 3 (ipykernel)",
   "language": "python",
   "name": "python3"
  },
  "language_info": {
   "codemirror_mode": {
    "name": "ipython",
    "version": 3
   },
   "file_extension": ".py",
   "mimetype": "text/x-python",
   "name": "python",
   "nbconvert_exporter": "python",
   "pygments_lexer": "ipython3",
   "version": "3.8.10"
  }
 },
 "nbformat": 4,
 "nbformat_minor": 5
}
